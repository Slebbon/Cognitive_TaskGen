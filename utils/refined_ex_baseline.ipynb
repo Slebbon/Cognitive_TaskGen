{
 "cells": [
  {
   "cell_type": "code",
   "execution_count": null,
   "id": "4c5c9943",
   "metadata": {},
   "outputs": [],
   "source": [
    "# ─── extract_baseline_refactored.ipynb ────────────────────────────────────────\n",
    "from utils.baseline_utils import (\n",
    "    load_data,\n",
    "    extract_baseline_features,\n",
    "    train_baseline_model,\n",
    "    evaluate_model,\n",
    "    save_model,\n",
    "    log_experiment,\n",
    "    DATA_DIR\n",
    ")\n",
    "\n",
    "# 1. Load\n",
    "df_train, df_test = load_data()\n",
    "\n",
    "# 2. Feature extraction\n",
    "X_train, y_train = extract_baseline_features(df_train)\n",
    "X_test,  y_test  = extract_baseline_features(df_test)\n",
    "\n",
    "# 3. Train\n",
    "model_params = {\"C\": 1.0, \"penalty\": \"l2\", \"max_iter\": 1000}\n",
    "model = train_baseline_model(X_train, y_train, **model_params)\n",
    "\n",
    "# 4. Evaluate\n",
    "metrics = evaluate_model(model, X_test, y_test)\n",
    "print(metrics)\n",
    "\n",
    "# 5. Save artifacts\n",
    "MODEL_OUT = DATA_DIR/\"experiments\"/\"phase1\"/\"baseline_model.joblib\"\n",
    "LOG_PATH  = DATA_DIR/\"experiments\"/\"phase1\"/\"run_log.csv\"\n",
    "save_model(model, MODEL_OUT)\n",
    "\n",
    "# 6. Log run\n",
    "run_id = log_experiment(metrics, model_params, LOG_PATH)\n",
    "print(f\"Logged run {run_id} with metrics {metrics}\")\n"
   ]
  }
 ],
 "metadata": {
  "language_info": {
   "name": "python"
  }
 },
 "nbformat": 4,
 "nbformat_minor": 5
}
